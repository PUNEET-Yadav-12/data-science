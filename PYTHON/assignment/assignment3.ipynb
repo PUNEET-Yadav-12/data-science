{
 "cells": [
  {
   "cell_type": "code",
   "execution_count": 1,
   "metadata": {},
   "outputs": [],
   "source": [
    "class hello:\n",
    "    def __init__(self):\n",
    "        self.random_number =[52,14,25,34,56,78,89,90,54,32,12,23]\n",
    "        #method even odd \n",
    "    def even_odd_counter(self):\n",
    "        number= self.random_number\n",
    "    \n",
    "        even=0\n",
    "        odd=0\n",
    "        for item in number:\n",
    "            if item % 2==0 and item!=0:\n",
    "                even+=1\n",
    "                \n",
    "         \n",
    "            elif item %2!=0 and item!=0 :\n",
    "                odd+=1\n",
    "        return odd,even\n",
    "\n",
    "                \n",
    "      # target_finder(self,item):   \n",
    "    def target_finder(self,target):\n",
    "        number=self.random_number\n",
    "        index =0\n",
    "        for item in number:\n",
    "            if item==target:\n",
    "                return index\n",
    "\n",
    "            index+=1             \n",
    "        \n",
    "            #average even finder\n",
    "    def average_even_finder(self):\n",
    "        number=self.random_number\n",
    "        even=0\n",
    "        sum=0\n",
    "        for item in number:\n",
    "            if item%2==0 and item!=0:\n",
    "                even+=1\n",
    "                sum+=item\n",
    "        return sum/even\n",
    "\n",
    "\n"
   ]
  },
  {
   "cell_type": "code",
   "execution_count": 2,
   "metadata": {},
   "outputs": [],
   "source": [
    "oj4=hello()"
   ]
  },
  {
   "cell_type": "code",
   "execution_count": 3,
   "metadata": {},
   "outputs": [
    {
     "data": {
      "text/plain": [
       "(3, 9)"
      ]
     },
     "execution_count": 3,
     "metadata": {},
     "output_type": "execute_result"
    }
   ],
   "source": [
    "oj4.even_odd_counter()\n",
    "# oj4.target_finder(52)?"
   ]
  },
  {
   "cell_type": "code",
   "execution_count": 4,
   "metadata": {},
   "outputs": [
    {
     "data": {
      "text/plain": [
       "11"
      ]
     },
     "execution_count": 4,
     "metadata": {},
     "output_type": "execute_result"
    }
   ],
   "source": [
    "oj4.target_finder(23)"
   ]
  },
  {
   "cell_type": "code",
   "execution_count": 5,
   "metadata": {},
   "outputs": [
    {
     "data": {
      "text/plain": [
       "46.888888888888886"
      ]
     },
     "execution_count": 5,
     "metadata": {},
     "output_type": "execute_result"
    }
   ],
   "source": [
    "oj4.average_even_finder()"
   ]
  }
 ],
 "metadata": {
  "kernelspec": {
   "display_name": "Python 3",
   "language": "python",
   "name": "python3"
  },
  "language_info": {
   "codemirror_mode": {
    "name": "ipython",
    "version": 3
   },
   "file_extension": ".py",
   "mimetype": "text/x-python",
   "name": "python",
   "nbconvert_exporter": "python",
   "pygments_lexer": "ipython3",
   "version": "3.12.4"
  }
 },
 "nbformat": 4,
 "nbformat_minor": 2
}
